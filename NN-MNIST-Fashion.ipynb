{
  "nbformat": 4,
  "nbformat_minor": 0,
  "metadata": {
    "colab": {
      "name": "Untitled5.ipynb",
      "provenance": [],
      "toc_visible": true,
      "mount_file_id": "17u9fNHQpexQlqUorU_lps8T0FX6MLHvr",
      "authorship_tag": "ABX9TyMPfdUs3Gb5O0OYpZQm4xqE",
      "include_colab_link": true
    },
    "kernelspec": {
      "name": "python3",
      "display_name": "Python 3"
    },
    "language_info": {
      "name": "python"
    }
  },
  "cells": [
    {
      "cell_type": "markdown",
      "metadata": {
        "id": "view-in-github",
        "colab_type": "text"
      },
      "source": [
        "<a href=\"https://colab.research.google.com/github/amrit-lal-singh/ML-Dl/blob/main/NN-MNIST-Fashion.ipynb\" target=\"_parent\"><img src=\"https://colab.research.google.com/assets/colab-badge.svg\" alt=\"Open In Colab\"/></a>"
      ]
    },
    {
      "cell_type": "code",
      "execution_count": 2,
      "metadata": {
        "id": "5-oS3BNH0t0G"
      },
      "outputs": [],
      "source": [
        "import tensorflow as tf\n",
        "from tensorflow import keras\n"
      ]
    },
    {
      "cell_type": "code",
      "source": [
        "fashion_mnist = keras.datasets.fashion_mnist\n",
        "(X_train, Y_train), (X_test, Y_test) = fashion_mnist.load_data()"
      ],
      "metadata": {
        "colab": {
          "base_uri": "https://localhost:8080/"
        },
        "id": "PmwwIjwJ1x-3",
        "outputId": "ee200fea-e23a-4974-9ede-efe995648f81"
      },
      "execution_count": 3,
      "outputs": [
        {
          "output_type": "stream",
          "name": "stdout",
          "text": [
            "Downloading data from https://storage.googleapis.com/tensorflow/tf-keras-datasets/train-labels-idx1-ubyte.gz\n",
            "32768/29515 [=================================] - 0s 0us/step\n",
            "40960/29515 [=========================================] - 0s 0us/step\n",
            "Downloading data from https://storage.googleapis.com/tensorflow/tf-keras-datasets/train-images-idx3-ubyte.gz\n",
            "26427392/26421880 [==============================] - 0s 0us/step\n",
            "26435584/26421880 [==============================] - 0s 0us/step\n",
            "Downloading data from https://storage.googleapis.com/tensorflow/tf-keras-datasets/t10k-labels-idx1-ubyte.gz\n",
            "16384/5148 [===============================================================================================] - 0s 0us/step\n",
            "Downloading data from https://storage.googleapis.com/tensorflow/tf-keras-datasets/t10k-images-idx3-ubyte.gz\n",
            "4423680/4422102 [==============================] - 0s 0us/step\n",
            "4431872/4422102 [==============================] - 0s 0us/step\n"
          ]
        }
      ]
    },
    {
      "cell_type": "code",
      "source": [
        "X_cv , X_tr = X_train[:5000]/255.0 , X_train[5000:]/255.0"
      ],
      "metadata": {
        "id": "OC4mtaaT5Ngv"
      },
      "execution_count": 4,
      "outputs": []
    },
    {
      "cell_type": "code",
      "source": [
        "Y_cv, Y_tr = Y_train[:5000],Y_train[5000:]"
      ],
      "metadata": {
        "id": "R0_33pEa5Nvd"
      },
      "execution_count": 5,
      "outputs": []
    },
    {
      "cell_type": "code",
      "source": [
        "class_names = [\n",
        " \"T-shirt/top\",\n",
        " \"Trouser\",\n",
        " \"Pullover\",\n",
        " \"Dress\",\n",
        " \"Coat\",\n",
        " \"Sandal\",\n",
        " \"Shirt\",\n",
        " \"Sneaker\",\n",
        " \"Bag\",\n",
        " \"Ankle boot\"\n",
        "]"
      ],
      "metadata": {
        "id": "PELcqFzJ6lQA"
      },
      "execution_count": 6,
      "outputs": []
    },
    {
      "cell_type": "code",
      "source": [
        "model = keras.models.Sequential()\n",
        "model.add(keras.layers.Flatten(input_shape=[28, 28]))\n",
        "model.add(keras.layers.Dense(400, activation=\"relu\"))\n",
        "model.add(keras.layers.Dense(100, activation=\"relu\"))\n",
        "model.add(keras.layers.Dense(10, activation=\"softmax\"))\n",
        "\n",
        "\n"
      ],
      "metadata": {
        "id": "28dtlPTZ7WN5"
      },
      "execution_count": 7,
      "outputs": []
    },
    {
      "cell_type": "code",
      "source": [
        "model.summary()\n"
      ],
      "metadata": {
        "colab": {
          "base_uri": "https://localhost:8080/"
        },
        "id": "DPtSerge-mN-",
        "outputId": "d6cb2061-e637-448c-e1b5-40251492b68d"
      },
      "execution_count": 8,
      "outputs": [
        {
          "output_type": "stream",
          "name": "stdout",
          "text": [
            "Model: \"sequential\"\n",
            "_________________________________________________________________\n",
            " Layer (type)                Output Shape              Param #   \n",
            "=================================================================\n",
            " flatten (Flatten)           (None, 784)               0         \n",
            "                                                                 \n",
            " dense (Dense)               (None, 400)               314000    \n",
            "                                                                 \n",
            " dense_1 (Dense)             (None, 100)               40100     \n",
            "                                                                 \n",
            " dense_2 (Dense)             (None, 10)                1010      \n",
            "                                                                 \n",
            "=================================================================\n",
            "Total params: 355,110\n",
            "Trainable params: 355,110\n",
            "Non-trainable params: 0\n",
            "_________________________________________________________________\n"
          ]
        }
      ]
    },
    {
      "cell_type": "code",
      "source": [
        "keras.utils.plot_model(model)"
      ],
      "metadata": {
        "colab": {
          "base_uri": "https://localhost:8080/",
          "height": 466
        },
        "id": "rm6FQ2ux-pRr",
        "outputId": "7216b58c-736c-4d78-faa3-889169706729"
      },
      "execution_count": 9,
      "outputs": [
        {
          "output_type": "execute_result",
          "data": {
            "text/plain": [
              "<IPython.core.display.Image object>"
            ],
            "image/png": "[encoded data removed]"
          },
          "metadata": {},
          "execution_count": 9
        }
      ]
    },
    {
      "cell_type": "code",
      "source": [
        "model.compile(loss=\"sparse_categorical_crossentropy\",\n",
        "              optimizer=\"sgd\",\n",
        "              metrics=[\"accuracy\"])\n",
        "checkpoint_cb = keras.callbacks.ModelCheckpoint(\"NN_MNIST_Fashion.h5\")\n",
        "early_stopping__cb = keras.callbacks.EarlyStopping(patience=10,restore_best_weights=True)\n",
        "\n",
        "class PrintValTrainRatioCallback(keras.callbacks.Callback):\n",
        "  def on_epoch_end(self, epoch, logs):\n",
        "    print(\"\\nval/train: {:.2f}\".format(logs[\"val_loss\"]/logs[\"loss\"]))"
      ],
      "metadata": {
        "id": "SeNb7wJpAzsc"
      },
      "execution_count": 10,
      "outputs": []
    },
    {
      "cell_type": "code",
      "source": [
        "history = model.fit(X_tr, Y_tr, epochs=100,validation_data=(X_cv, Y_cv),callbacks = [checkpoint_cb, early_stopping__cb])"
      ],
      "metadata": {
        "colab": {
          "base_uri": "https://localhost:8080/"
        },
        "id": "YhFF4lZuOdTQ",
        "outputId": "16fef43e-204c-4079-e3d4-0088fa5ac4d3"
      },
      "execution_count": 11,
      "outputs": [
        {
          "output_type": "stream",
          "name": "stdout",
          "text": [
            "Epoch 1/50\n",
            "1719/1719 [==============================] - 7s 4ms/step - loss: 0.7045 - accuracy: 0.7695 - val_loss: 0.5454 - val_accuracy: 0.8154\n",
            "Epoch 2/50\n",
            "1719/1719 [==============================] - 6s 3ms/step - loss: 0.4825 - accuracy: 0.8308 - val_loss: 0.4831 - val_accuracy: 0.8306\n",
            "Epoch 3/50\n",
            "1719/1719 [==============================] - 6s 4ms/step - loss: 0.4371 - accuracy: 0.8472 - val_loss: 0.4311 - val_accuracy: 0.8438\n",
            "Epoch 4/50\n",
            "1719/1719 [==============================] - 7s 4ms/step - loss: 0.4083 - accuracy: 0.8558 - val_loss: 0.3877 - val_accuracy: 0.8670\n",
            "Epoch 5/50\n",
            "1719/1719 [==============================] - 6s 3ms/step - loss: 0.3902 - accuracy: 0.8615 - val_loss: 0.3869 - val_accuracy: 0.8628\n",
            "Epoch 6/50\n",
            "1719/1719 [==============================] - 6s 3ms/step - loss: 0.3738 - accuracy: 0.8686 - val_loss: 0.3925 - val_accuracy: 0.8594\n",
            "Epoch 7/50\n",
            "1719/1719 [==============================] - 6s 3ms/step - loss: 0.3604 - accuracy: 0.8719 - val_loss: 0.3592 - val_accuracy: 0.8754\n",
            "Epoch 8/50\n",
            "1719/1719 [==============================] - 6s 4ms/step - loss: 0.3482 - accuracy: 0.8767 - val_loss: 0.3634 - val_accuracy: 0.8718\n",
            "Epoch 9/50\n",
            "1719/1719 [==============================] - 6s 3ms/step - loss: 0.3397 - accuracy: 0.8788 - val_loss: 0.3442 - val_accuracy: 0.8808\n",
            "Epoch 10/50\n",
            "1719/1719 [==============================] - 6s 3ms/step - loss: 0.3295 - accuracy: 0.8829 - val_loss: 0.3369 - val_accuracy: 0.8810\n",
            "Epoch 11/50\n",
            "1719/1719 [==============================] - 6s 3ms/step - loss: 0.3215 - accuracy: 0.8858 - val_loss: 0.3357 - val_accuracy: 0.8810\n",
            "Epoch 12/50\n",
            "1719/1719 [==============================] - 6s 3ms/step - loss: 0.3139 - accuracy: 0.8878 - val_loss: 0.3343 - val_accuracy: 0.8782\n",
            "Epoch 13/50\n",
            "1719/1719 [==============================] - 6s 4ms/step - loss: 0.3067 - accuracy: 0.8905 - val_loss: 0.3340 - val_accuracy: 0.8816\n",
            "Epoch 14/50\n",
            "1719/1719 [==============================] - 6s 4ms/step - loss: 0.2988 - accuracy: 0.8937 - val_loss: 0.3276 - val_accuracy: 0.8862\n",
            "Epoch 15/50\n",
            "1719/1719 [==============================] - 6s 3ms/step - loss: 0.2926 - accuracy: 0.8950 - val_loss: 0.3328 - val_accuracy: 0.8814\n",
            "Epoch 16/50\n",
            "1719/1719 [==============================] - 6s 4ms/step - loss: 0.2859 - accuracy: 0.8965 - val_loss: 0.3180 - val_accuracy: 0.8880\n",
            "Epoch 17/50\n",
            "1719/1719 [==============================] - 6s 3ms/step - loss: 0.2805 - accuracy: 0.8991 - val_loss: 0.3206 - val_accuracy: 0.8860\n",
            "Epoch 18/50\n",
            "1719/1719 [==============================] - 6s 4ms/step - loss: 0.2753 - accuracy: 0.9013 - val_loss: 0.3110 - val_accuracy: 0.8938\n",
            "Epoch 19/50\n",
            "1719/1719 [==============================] - 6s 4ms/step - loss: 0.2695 - accuracy: 0.9035 - val_loss: 0.3411 - val_accuracy: 0.8822\n",
            "Epoch 20/50\n",
            "1719/1719 [==============================] - 6s 3ms/step - loss: 0.2645 - accuracy: 0.9064 - val_loss: 0.3107 - val_accuracy: 0.8896\n",
            "Epoch 21/50\n",
            "1719/1719 [==============================] - 6s 4ms/step - loss: 0.2600 - accuracy: 0.9065 - val_loss: 0.2989 - val_accuracy: 0.8928\n",
            "Epoch 22/50\n",
            "1719/1719 [==============================] - 6s 4ms/step - loss: 0.2542 - accuracy: 0.9088 - val_loss: 0.2977 - val_accuracy: 0.8958\n",
            "Epoch 23/50\n",
            "1719/1719 [==============================] - 6s 3ms/step - loss: 0.2503 - accuracy: 0.9096 - val_loss: 0.3039 - val_accuracy: 0.8910\n",
            "Epoch 24/50\n",
            "1719/1719 [==============================] - 6s 3ms/step - loss: 0.2460 - accuracy: 0.9114 - val_loss: 0.2964 - val_accuracy: 0.8946\n",
            "Epoch 25/50\n",
            "1719/1719 [==============================] - 6s 3ms/step - loss: 0.2415 - accuracy: 0.9132 - val_loss: 0.3032 - val_accuracy: 0.8920\n",
            "Epoch 26/50\n",
            "1719/1719 [==============================] - 6s 3ms/step - loss: 0.2370 - accuracy: 0.9154 - val_loss: 0.2946 - val_accuracy: 0.8962\n",
            "Epoch 27/50\n",
            "1719/1719 [==============================] - 6s 3ms/step - loss: 0.2330 - accuracy: 0.9170 - val_loss: 0.2979 - val_accuracy: 0.8920\n",
            "Epoch 28/50\n",
            "1719/1719 [==============================] - 6s 4ms/step - loss: 0.2297 - accuracy: 0.9177 - val_loss: 0.2959 - val_accuracy: 0.8974\n",
            "Epoch 29/50\n",
            "1719/1719 [==============================] - 6s 3ms/step - loss: 0.2252 - accuracy: 0.9194 - val_loss: 0.2928 - val_accuracy: 0.8918\n",
            "Epoch 30/50\n",
            "1719/1719 [==============================] - 6s 4ms/step - loss: 0.2222 - accuracy: 0.9206 - val_loss: 0.2949 - val_accuracy: 0.8956\n",
            "Epoch 31/50\n",
            "1719/1719 [==============================] - 6s 4ms/step - loss: 0.2183 - accuracy: 0.9217 - val_loss: 0.2905 - val_accuracy: 0.8978\n",
            "Epoch 32/50\n",
            "1719/1719 [==============================] - 6s 4ms/step - loss: 0.2141 - accuracy: 0.9238 - val_loss: 0.2874 - val_accuracy: 0.8998\n",
            "Epoch 33/50\n",
            "1719/1719 [==============================] - 6s 4ms/step - loss: 0.2114 - accuracy: 0.9245 - val_loss: 0.2917 - val_accuracy: 0.8928\n",
            "Epoch 34/50\n",
            "1719/1719 [==============================] - 6s 3ms/step - loss: 0.2078 - accuracy: 0.9241 - val_loss: 0.3066 - val_accuracy: 0.8902\n",
            "Epoch 35/50\n",
            "1719/1719 [==============================] - 6s 3ms/step - loss: 0.2045 - accuracy: 0.9271 - val_loss: 0.3139 - val_accuracy: 0.8886\n",
            "Epoch 36/50\n",
            "1719/1719 [==============================] - 6s 3ms/step - loss: 0.2008 - accuracy: 0.9278 - val_loss: 0.2893 - val_accuracy: 0.8978\n",
            "Epoch 37/50\n",
            "1719/1719 [==============================] - 6s 3ms/step - loss: 0.1969 - accuracy: 0.9299 - val_loss: 0.2848 - val_accuracy: 0.8980\n",
            "Epoch 38/50\n",
            "1719/1719 [==============================] - 6s 3ms/step - loss: 0.1938 - accuracy: 0.9306 - val_loss: 0.2943 - val_accuracy: 0.8998\n",
            "Epoch 39/50\n",
            "1719/1719 [==============================] - 6s 3ms/step - loss: 0.1914 - accuracy: 0.9311 - val_loss: 0.2837 - val_accuracy: 0.9002\n",
            "Epoch 40/50\n",
            "1719/1719 [==============================] - 6s 3ms/step - loss: 0.1868 - accuracy: 0.9335 - val_loss: 0.3084 - val_accuracy: 0.8894\n",
            "Epoch 41/50\n",
            "1719/1719 [==============================] - 6s 3ms/step - loss: 0.1848 - accuracy: 0.9336 - val_loss: 0.3265 - val_accuracy: 0.8802\n",
            "Epoch 42/50\n",
            "1719/1719 [==============================] - 6s 4ms/step - loss: 0.1821 - accuracy: 0.9345 - val_loss: 0.2944 - val_accuracy: 0.8950\n",
            "Epoch 43/50\n",
            "1719/1719 [==============================] - 6s 4ms/step - loss: 0.1786 - accuracy: 0.9365 - val_loss: 0.2942 - val_accuracy: 0.8952\n",
            "Epoch 44/50\n",
            "1719/1719 [==============================] - 6s 4ms/step - loss: 0.1747 - accuracy: 0.9379 - val_loss: 0.2873 - val_accuracy: 0.8970\n",
            "Epoch 45/50\n",
            "1719/1719 [==============================] - 6s 3ms/step - loss: 0.1722 - accuracy: 0.9387 - val_loss: 0.3058 - val_accuracy: 0.8990\n",
            "Epoch 46/50\n",
            "1719/1719 [==============================] - 6s 3ms/step - loss: 0.1709 - accuracy: 0.9389 - val_loss: 0.2982 - val_accuracy: 0.8952\n",
            "Epoch 47/50\n",
            "1719/1719 [==============================] - 6s 3ms/step - loss: 0.1663 - accuracy: 0.9407 - val_loss: 0.2854 - val_accuracy: 0.8972\n",
            "Epoch 48/50\n",
            "1719/1719 [==============================] - 6s 4ms/step - loss: 0.1651 - accuracy: 0.9416 - val_loss: 0.2968 - val_accuracy: 0.9006\n",
            "Epoch 49/50\n",
            "1719/1719 [==============================] - 6s 3ms/step - loss: 0.1621 - accuracy: 0.9420 - val_loss: 0.2908 - val_accuracy: 0.8972\n",
            "Epoch 50/50\n",
            "1719/1719 [==============================] - 6s 4ms/step - loss: 0.1587 - accuracy: 0.9439 - val_loss: 0.2919 - val_accuracy: 0.8974\n"
          ]
        }
      ]
    },
    {
      "cell_type": "code",
      "source": [
        "print(history.history)"
      ],
      "metadata": {
        "colab": {
          "base_uri": "https://localhost:8080/"
        },
        "id": "dHhsBpe2TxKB",
        "outputId": "60ffe6eb-6b53-4f44-f0f9-e3b222cb1be6"
      },
      "execution_count": 12,
      "outputs": [
        {
          "output_type": "stream",
          "name": "stdout",
          "text": [
            "{'loss': [0.704522967338562, 0.48247694969177246, 0.43712368607521057, 0.40825390815734863, 0.3902345597743988, 0.37378713488578796, 0.3604370355606079, 0.34819215536117554, 0.3397429287433624, 0.3295135796070099, 0.32149073481559753, 0.3138582110404968, 0.3066795766353607, 0.29878902435302734, 0.2926425039768219, 0.28587576746940613, 0.2805260717868805, 0.275299996137619, 0.26946455240249634, 0.26448673009872437, 0.26004335284233093, 0.2542368471622467, 0.2502906322479248, 0.24599148333072662, 0.24146084487438202, 0.23700015246868134, 0.2329532504081726, 0.22970102727413177, 0.22522476315498352, 0.22217611968517303, 0.21833088994026184, 0.2141292542219162, 0.2114287167787552, 0.20778335630893707, 0.20448359847068787, 0.20082713663578033, 0.19687974452972412, 0.1937776803970337, 0.19141511619091034, 0.1867857724428177, 0.18483680486679077, 0.1820807009935379, 0.1786411553621292, 0.174668550491333, 0.17216885089874268, 0.17085792124271393, 0.1663363128900528, 0.16506370902061462, 0.16208277642726898, 0.15870222449302673], 'accuracy': [0.7695272564888, 0.8308181762695312, 0.8472363352775574, 0.8558181524276733, 0.8614909052848816, 0.8686363697052002, 0.8718909025192261, 0.876727283000946, 0.878781795501709, 0.8829091191291809, 0.8858000040054321, 0.8878363370895386, 0.8904545307159424, 0.8936727046966553, 0.8950181603431702, 0.8965091109275818, 0.8991090655326843, 0.9013272523880005, 0.9035454392433167, 0.9063636660575867, 0.9065454602241516, 0.9088181853294373, 0.9095636606216431, 0.9114363789558411, 0.9132000207901001, 0.9154182076454163, 0.9170181751251221, 0.9176909327507019, 0.9194363355636597, 0.9205999970436096, 0.9217272996902466, 0.923763632774353, 0.9244545698165894, 0.9240909218788147, 0.9271273016929626, 0.9278181791305542, 0.9298727512359619, 0.9305999875068665, 0.9311272501945496, 0.9335454702377319, 0.9336363673210144, 0.9345454573631287, 0.9364727139472961, 0.9379454255104065, 0.9386545419692993, 0.938872754573822, 0.9407272934913635, 0.9415636658668518, 0.9419999718666077, 0.9439454674720764], 'val_loss': [0.5453789234161377, 0.4830768406391144, 0.43113163113594055, 0.3876953125, 0.38693463802337646, 0.3924562633037567, 0.35917359590530396, 0.36335405707359314, 0.3442385196685791, 0.33694544434547424, 0.3356747031211853, 0.3343026638031006, 0.33397945761680603, 0.3276139199733734, 0.3328244090080261, 0.31796687841415405, 0.3205608129501343, 0.3110087811946869, 0.34105581045150757, 0.3107486069202423, 0.29889386892318726, 0.2977141737937927, 0.3038678765296936, 0.2964026927947998, 0.3031599223613739, 0.2946276366710663, 0.29787275195121765, 0.2959449887275696, 0.29281675815582275, 0.2948610782623291, 0.2904541790485382, 0.2874129116535187, 0.29166141152381897, 0.3066086173057556, 0.31393760442733765, 0.2893143594264984, 0.28481990098953247, 0.2943477928638458, 0.28366944193840027, 0.3084370791912079, 0.3264598846435547, 0.2944333851337433, 0.29422420263290405, 0.2872982323169708, 0.3058079481124878, 0.29822447896003723, 0.2853853106498718, 0.29682719707489014, 0.29082179069519043, 0.2918946146965027], 'val_accuracy': [0.8154000043869019, 0.8306000232696533, 0.8438000082969666, 0.8669999837875366, 0.8628000020980835, 0.8593999743461609, 0.8754000067710876, 0.8718000054359436, 0.8808000087738037, 0.8809999823570251, 0.8809999823570251, 0.8781999945640564, 0.881600022315979, 0.8862000107765198, 0.8813999891281128, 0.8880000114440918, 0.8859999775886536, 0.8938000202178955, 0.8822000026702881, 0.8895999789237976, 0.892799973487854, 0.895799994468689, 0.890999972820282, 0.894599974155426, 0.8920000195503235, 0.8962000012397766, 0.8920000195503235, 0.8974000215530396, 0.8917999863624573, 0.8956000208854675, 0.8978000283241272, 0.8998000025749207, 0.892799973487854, 0.8902000188827515, 0.8885999917984009, 0.8978000283241272, 0.8980000019073486, 0.8998000025749207, 0.9002000093460083, 0.8894000053405762, 0.8802000284194946, 0.8949999809265137, 0.8952000141143799, 0.8970000147819519, 0.8989999890327454, 0.8952000141143799, 0.8971999883651733, 0.900600016117096, 0.8971999883651733, 0.8974000215530396]}\n"
          ]
        }
      ]
    },
    {
      "cell_type": "code",
      "source": [
        "import pandas as pd \n",
        "import matplotlib.pyplot as plt\n"
      ],
      "metadata": {
        "id": "UA9koOuNT-VB"
      },
      "execution_count": 13,
      "outputs": []
    },
    {
      "cell_type": "code",
      "source": [
        "pd.DataFrame(history.history).plot(figsize=(8, 5))\n",
        "plt.grid(True)\n",
        "plt.gca().set_ylim(0, 1)\n",
        "plt.show()"
      ],
      "metadata": {
        "colab": {
          "base_uri": "https://localhost:8080/",
          "height": 324
        },
        "id": "I4PR3BSkT06Y",
        "outputId": "293c5c7e-7aea-4c9d-f855-243be1930e12"
      },
      "execution_count": 14,
      "outputs": [
        {
          "output_type": "display_data",
          "data": {
            "text/plain": [
              "<Figure size 576x360 with 1 Axes>"
            ],
            "image/png": "[encoded data removed]"
          },
          "metadata": {
            "needs_background": "light"
          }
        }
      ]
    },
    {
      "cell_type": "markdown",
      "source": [
        "# New Section"
      ],
      "metadata": {
        "id": "d4o2cPG3JiYN"
      }
    },
    {
      "cell_type": "code",
      "source": [
        "model.evaluate(X_test, Y_test)"
      ],
      "metadata": {
        "colab": {
          "base_uri": "https://localhost:8080/"
        },
        "id": "Ba6COASuwgYI",
        "outputId": "0e3d04ef-a663-40c8-a894-0d3c92d7b29e"
      },
      "execution_count": 15,
      "outputs": [
        {
          "output_type": "stream",
          "name": "stdout",
          "text": [
            "313/313 [==============================] - 1s 3ms/step - loss: 64.5181 - accuracy: 0.8632\n"
          ]
        },
        {
          "output_type": "execute_result",
          "data": {
            "text/plain": [
              "[64.51805877685547, 0.8632000088691711]"
            ]
          },
          "metadata": {},
          "execution_count": 15
        }
      ]
    },
    {
      "cell_type": "code",
      "source": [
        "X_new = X_test[:4]\n",
        "Y_probablities = model.predict(X_new)\n",
        "print(Y_probablities)"
      ],
      "metadata": {
        "id": "rOyN9IfywoSW",
        "colab": {
          "base_uri": "https://localhost:8080/"
        },
        "outputId": "9eb981f4-de4b-4426-ee48-b14086e41285"
      },
      "execution_count": 16,
      "outputs": [
        {
          "output_type": "stream",
          "name": "stdout",
          "text": [
            "[[0. 0. 0. 0. 0. 0. 0. 0. 0. 1.]\n",
            " [0. 0. 1. 0. 0. 0. 0. 0. 0. 0.]\n",
            " [0. 1. 0. 0. 0. 0. 0. 0. 0. 0.]\n",
            " [0. 1. 0. 0. 0. 0. 0. 0. 0. 0.]]\n"
          ]
        }
      ]
    },
    {
      "cell_type": "code",
      "source": [
        "model.save(\"NN-MNIST-Fashion.h5\")"
      ],
      "metadata": {
        "id": "A3UQJzqB6Ilh"
      },
      "execution_count": 19,
      "outputs": []
    },
    {
      "cell_type": "code",
      "source": [
        ""
      ],
      "metadata": {
        "id": "nac7FaX0DDCj"
      },
      "execution_count": null,
      "outputs": []
    }
  ]
}