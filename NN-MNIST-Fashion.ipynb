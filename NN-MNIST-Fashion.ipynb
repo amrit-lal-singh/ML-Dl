{
  "nbformat": 4,
  "nbformat_minor": 0,
  "metadata": {
    "colab": {
      "name": "Untitled5.ipynb",
      "provenance": [],
      "authorship_tag": "ABX9TyPwKDEVLTKocG0GI89FC3MJ",
      "include_colab_link": true
    },
    "kernelspec": {
      "name": "python3",
      "display_name": "Python 3"
    },
    "language_info": {
      "name": "python"
    }
  },
  "cells": [
    {
      "cell_type": "markdown",
      "metadata": {
        "id": "view-in-github",
        "colab_type": "text"
      },
      "source": [
        "<a href=\"https://colab.research.google.com/github/amrit-lal-singh/ML-Dl/blob/main/NN-MNIST-Fashion.ipynb\" target=\"_parent\"><img src=\"https://colab.research.google.com/assets/colab-badge.svg\" alt=\"Open In Colab\"/></a>"
      ]
    },
    {
      "cell_type": "code",
      "execution_count": 1,
      "metadata": {
        "id": "5-oS3BNH0t0G"
      },
      "outputs": [],
      "source": [
        "import tensorflow as tf\n",
        "from tensorflow import keras\n"
      ]
    },
    {
      "cell_type": "code",
      "source": [
        "fashion_mnist = keras.datasets.fashion_mnist\n",
        "(X_train, Y_train), (X_test, Y_test) = fashion_mnist.load_data()"
      ],
      "metadata": {
        "colab": {
          "base_uri": "https://localhost:8080/"
        },
        "id": "PmwwIjwJ1x-3",
        "outputId": "6324f569-f710-4eb4-ce96-db867971adb4"
      },
      "execution_count": 5,
      "outputs": [
        {
          "output_type": "stream",
          "name": "stdout",
          "text": [
            "Downloading data from https://storage.googleapis.com/tensorflow/tf-keras-datasets/train-labels-idx1-ubyte.gz\n",
            "32768/29515 [=================================] - 0s 0us/step\n",
            "40960/29515 [=========================================] - 0s 0us/step\n",
            "Downloading data from https://storage.googleapis.com/tensorflow/tf-keras-datasets/train-images-idx3-ubyte.gz\n",
            "26427392/26421880 [==============================] - 0s 0us/step\n",
            "26435584/26421880 [==============================] - 0s 0us/step\n",
            "Downloading data from https://storage.googleapis.com/tensorflow/tf-keras-datasets/t10k-labels-idx1-ubyte.gz\n",
            "16384/5148 [===============================================================================================] - 0s 0us/step\n",
            "Downloading data from https://storage.googleapis.com/tensorflow/tf-keras-datasets/t10k-images-idx3-ubyte.gz\n",
            "4423680/4422102 [==============================] - 0s 0us/step\n",
            "4431872/4422102 [==============================] - 0s 0us/step\n"
          ]
        }
      ]
    },
    {
      "cell_type": "code",
      "source": [
        "X_cv , X_tr = X_train[:5000]/255.0 , X_train[5000:]/255.0"
      ],
      "metadata": {
        "id": "OC4mtaaT5Ngv"
      },
      "execution_count": 12,
      "outputs": []
    },
    {
      "cell_type": "code",
      "source": [
        "Y_cv, Y_tr = Y_train[:5000],Y_train[5000:]"
      ],
      "metadata": {
        "id": "R0_33pEa5Nvd"
      },
      "execution_count": 10,
      "outputs": []
    },
    {
      "cell_type": "code",
      "source": [
        "class_names = [\n",
        " \"T-shirt/top\",\n",
        " \"Trouser\",\n",
        " \"Pullover\",\n",
        " \"Dress\",\n",
        " \"Coat\",\n",
        " \"Sandal\",\n",
        " \"Shirt\",\n",
        " \"Sneaker\",\n",
        " \"Bag\",\n",
        " \"Ankle boot\"\n",
        "]"
      ],
      "metadata": {
        "id": "PELcqFzJ6lQA"
      },
      "execution_count": 11,
      "outputs": []
    },
    {
      "cell_type": "code",
      "source": [
        "model = keras.models.Sequential()\n",
        "model.add(keras.layers.Flatten(input_shape=[28, 28]))\n",
        "model.add(keras.layers.Dense(400, activation=\"relu\"))\n",
        "model.add(keras.layers.Dense(100, activation=\"relu\"))\n",
        "model.add(keras.layers.Dense(10, activation=\"softmax\"))\n",
        "\n",
        "\n"
      ],
      "metadata": {
        "id": "28dtlPTZ7WN5"
      },
      "execution_count": 20,
      "outputs": []
    },
    {
      "cell_type": "code",
      "source": [
        "model.summary()\n"
      ],
      "metadata": {
        "colab": {
          "base_uri": "https://localhost:8080/"
        },
        "id": "DPtSerge-mN-",
        "outputId": "23741d0c-79a7-49ff-977c-d534bdaaaf27"
      },
      "execution_count": 21,
      "outputs": [
        {
          "output_type": "stream",
          "name": "stdout",
          "text": [
            "Model: \"sequential_5\"\n",
            "_________________________________________________________________\n",
            " Layer (type)                Output Shape              Param #   \n",
            "=================================================================\n",
            " flatten_2 (Flatten)         (None, 784)               0         \n",
            "                                                                 \n",
            " dense_6 (Dense)             (None, 400)               314000    \n",
            "                                                                 \n",
            " dense_7 (Dense)             (None, 100)               40100     \n",
            "                                                                 \n",
            " dense_8 (Dense)             (None, 10)                1010      \n",
            "                                                                 \n",
            "=================================================================\n",
            "Total params: 355,110\n",
            "Trainable params: 355,110\n",
            "Non-trainable params: 0\n",
            "_________________________________________________________________\n"
          ]
        }
      ]
    },
    {
      "cell_type": "code",
      "source": [
        "keras.utils.plot_model(model)"
      ],
      "metadata": {
        "colab": {
          "base_uri": "https://localhost:8080/",
          "height": 466
        },
        "id": "rm6FQ2ux-pRr",
        "outputId": "7178a02d-2158-440c-e347-0c6b3353452b"
      },
      "execution_count": 23,
      "outputs": [
        {
          "output_type": "execute_result",
          "data": {
            "text/plain": [
              "<IPython.core.display.Image object>"
            ],
            "image/png": "[encoded data removed]"
          },
          "metadata": {},
          "execution_count": 23
        }
      ]
    },
    {
      "cell_type": "code",
      "source": [
        "model.compile(loss=\"sparse_categorical_crossentropy\",\n",
        "              optimizer=\"sgd\",\n",
        "              metrics=[\"accuracy\"])"
      ],
      "metadata": {
        "id": "SeNb7wJpAzsc"
      },
      "execution_count": 28,
      "outputs": []
    },
    {
      "cell_type": "code",
      "source": [
        "history = model.fit(X_tr, Y_tr, epochs=30,validation_data=(X_cv, Y_cv))"
      ],
      "metadata": {
        "colab": {
          "base_uri": "https://localhost:8080/"
        },
        "id": "YhFF4lZuOdTQ",
        "outputId": "48e0c509-9512-49ec-9726-53a0ed0a9a84"
      },
      "execution_count": 29,
      "outputs": [
        {
          "output_type": "stream",
          "name": "stdout",
          "text": [
            "Epoch 1/30\n",
            "1719/1719 [==============================] - 9s 5ms/step - loss: 0.7066 - accuracy: 0.7708 - val_loss: 0.5177 - val_accuracy: 0.8210\n",
            "Epoch 2/30\n",
            "1719/1719 [==============================] - 8s 5ms/step - loss: 0.4838 - accuracy: 0.8306 - val_loss: 0.4740 - val_accuracy: 0.8414\n",
            "Epoch 3/30\n",
            "1719/1719 [==============================] - 8s 5ms/step - loss: 0.4402 - accuracy: 0.8456 - val_loss: 0.4204 - val_accuracy: 0.8538\n",
            "Epoch 4/30\n",
            "1719/1719 [==============================] - 8s 5ms/step - loss: 0.4135 - accuracy: 0.8555 - val_loss: 0.4128 - val_accuracy: 0.8570\n",
            "Epoch 5/30\n",
            "1719/1719 [==============================] - 8s 5ms/step - loss: 0.3935 - accuracy: 0.8617 - val_loss: 0.3975 - val_accuracy: 0.8642\n",
            "Epoch 6/30\n",
            "1719/1719 [==============================] - 8s 5ms/step - loss: 0.3770 - accuracy: 0.8680 - val_loss: 0.3693 - val_accuracy: 0.8726\n",
            "Epoch 7/30\n",
            "1719/1719 [==============================] - 8s 5ms/step - loss: 0.3634 - accuracy: 0.8722 - val_loss: 0.3688 - val_accuracy: 0.8700\n",
            "Epoch 8/30\n",
            "1719/1719 [==============================] - 8s 5ms/step - loss: 0.3517 - accuracy: 0.8753 - val_loss: 0.3548 - val_accuracy: 0.8734\n",
            "Epoch 9/30\n",
            "1719/1719 [==============================] - 8s 5ms/step - loss: 0.3401 - accuracy: 0.8792 - val_loss: 0.3555 - val_accuracy: 0.8732\n",
            "Epoch 10/30\n",
            "1719/1719 [==============================] - 8s 5ms/step - loss: 0.3315 - accuracy: 0.8810 - val_loss: 0.3449 - val_accuracy: 0.8784\n",
            "Epoch 11/30\n",
            "1719/1719 [==============================] - 8s 5ms/step - loss: 0.3223 - accuracy: 0.8855 - val_loss: 0.3537 - val_accuracy: 0.8728\n",
            "Epoch 12/30\n",
            "1719/1719 [==============================] - 8s 4ms/step - loss: 0.3146 - accuracy: 0.8883 - val_loss: 0.3394 - val_accuracy: 0.8782\n",
            "Epoch 13/30\n",
            "1719/1719 [==============================] - 8s 5ms/step - loss: 0.3078 - accuracy: 0.8904 - val_loss: 0.3334 - val_accuracy: 0.8814\n",
            "Epoch 14/30\n",
            "1719/1719 [==============================] - 8s 5ms/step - loss: 0.2989 - accuracy: 0.8939 - val_loss: 0.3349 - val_accuracy: 0.8800\n",
            "Epoch 15/30\n",
            "1719/1719 [==============================] - 8s 5ms/step - loss: 0.2937 - accuracy: 0.8940 - val_loss: 0.3211 - val_accuracy: 0.8834\n",
            "Epoch 16/30\n",
            "1719/1719 [==============================] - 8s 5ms/step - loss: 0.2878 - accuracy: 0.8961 - val_loss: 0.3153 - val_accuracy: 0.8890\n",
            "Epoch 17/30\n",
            "1719/1719 [==============================] - 8s 5ms/step - loss: 0.2806 - accuracy: 0.8995 - val_loss: 0.3284 - val_accuracy: 0.8828\n",
            "Epoch 18/30\n",
            "1719/1719 [==============================] - 8s 5ms/step - loss: 0.2757 - accuracy: 0.9006 - val_loss: 0.3307 - val_accuracy: 0.8802\n",
            "Epoch 19/30\n",
            "1719/1719 [==============================] - 8s 5ms/step - loss: 0.2694 - accuracy: 0.9028 - val_loss: 0.3143 - val_accuracy: 0.8850\n",
            "Epoch 20/30\n",
            "1719/1719 [==============================] - 8s 5ms/step - loss: 0.2652 - accuracy: 0.9054 - val_loss: 0.3227 - val_accuracy: 0.8800\n",
            "Epoch 21/30\n",
            "1719/1719 [==============================] - 8s 5ms/step - loss: 0.2593 - accuracy: 0.9060 - val_loss: 0.3108 - val_accuracy: 0.8870\n",
            "Epoch 22/30\n",
            "1719/1719 [==============================] - 8s 5ms/step - loss: 0.2548 - accuracy: 0.9089 - val_loss: 0.3050 - val_accuracy: 0.8950\n",
            "Epoch 23/30\n",
            "1719/1719 [==============================] - 9s 5ms/step - loss: 0.2501 - accuracy: 0.9101 - val_loss: 0.3101 - val_accuracy: 0.8922\n",
            "Epoch 24/30\n",
            "1719/1719 [==============================] - 8s 5ms/step - loss: 0.2448 - accuracy: 0.9120 - val_loss: 0.3077 - val_accuracy: 0.8918\n",
            "Epoch 25/30\n",
            "1719/1719 [==============================] - 8s 5ms/step - loss: 0.2416 - accuracy: 0.9133 - val_loss: 0.3049 - val_accuracy: 0.8890\n",
            "Epoch 26/30\n",
            "1719/1719 [==============================] - 8s 5ms/step - loss: 0.2364 - accuracy: 0.9147 - val_loss: 0.3069 - val_accuracy: 0.8924\n",
            "Epoch 27/30\n",
            "1719/1719 [==============================] - 8s 5ms/step - loss: 0.2320 - accuracy: 0.9169 - val_loss: 0.3142 - val_accuracy: 0.8898\n",
            "Epoch 28/30\n",
            "1719/1719 [==============================] - 9s 5ms/step - loss: 0.2283 - accuracy: 0.9185 - val_loss: 0.3038 - val_accuracy: 0.8922\n",
            "Epoch 29/30\n",
            "1719/1719 [==============================] - 8s 5ms/step - loss: 0.2246 - accuracy: 0.9190 - val_loss: 0.3005 - val_accuracy: 0.8896\n",
            "Epoch 30/30\n",
            "1719/1719 [==============================] - 8s 5ms/step - loss: 0.2205 - accuracy: 0.9216 - val_loss: 0.2909 - val_accuracy: 0.8952\n"
          ]
        }
      ]
    },
    {
      "cell_type": "code",
      "source": [
        "print(history.history)"
      ],
      "metadata": {
        "colab": {
          "base_uri": "https://localhost:8080/"
        },
        "id": "dHhsBpe2TxKB",
        "outputId": "2bc2454b-a42f-4695-d463-939bb1320511"
      },
      "execution_count": 30,
      "outputs": [
        {
          "output_type": "stream",
          "name": "stdout",
          "text": [
            "{'loss': [0.7065629363059998, 0.4838334619998932, 0.440189003944397, 0.41353702545166016, 0.3934561014175415, 0.3769836723804474, 0.36341845989227295, 0.3517364263534546, 0.3401225209236145, 0.33154645562171936, 0.32225239276885986, 0.3146149516105652, 0.3077556788921356, 0.2988637685775757, 0.2937096655368805, 0.2877679169178009, 0.2805793881416321, 0.27566319704055786, 0.2694450318813324, 0.2652098834514618, 0.25929054617881775, 0.25476622581481934, 0.2500903904438019, 0.2447998821735382, 0.2416096031665802, 0.2364392727613449, 0.2320360392332077, 0.2283465564250946, 0.2246311604976654, 0.22048209607601166], 'accuracy': [0.7707818150520325, 0.8305636644363403, 0.8455636501312256, 0.8554909229278564, 0.8617091178894043, 0.8679636120796204, 0.8721818327903748, 0.8753272891044617, 0.8791818022727966, 0.8809636235237122, 0.8854727149009705, 0.8882908821105957, 0.8903999924659729, 0.893854558467865, 0.8940363526344299, 0.8960727453231812, 0.8995272517204285, 0.900563657283783, 0.9027818441390991, 0.9053999781608582, 0.9060181975364685, 0.9088727235794067, 0.9101272821426392, 0.9119818210601807, 0.913345456123352, 0.914654552936554, 0.9169454574584961, 0.9184727072715759, 0.9190363883972168, 0.9215818047523499], 'val_loss': [0.5177130103111267, 0.4739741086959839, 0.420366495847702, 0.4128279387950897, 0.39746129512786865, 0.3693116307258606, 0.36883848905563354, 0.35477811098098755, 0.35546764731407166, 0.34493526816368103, 0.3537082374095917, 0.33938339352607727, 0.3334120810031891, 0.3349047005176544, 0.32109832763671875, 0.3152976334095001, 0.32842889428138733, 0.33068498969078064, 0.31425267457962036, 0.32271701097488403, 0.310811847448349, 0.3050168454647064, 0.3100898563861847, 0.3076689839363098, 0.3049197793006897, 0.30692312121391296, 0.3142242729663849, 0.30382606387138367, 0.30053994059562683, 0.2908620238304138], 'val_accuracy': [0.8209999799728394, 0.8414000272750854, 0.8537999987602234, 0.8569999933242798, 0.8641999959945679, 0.8726000189781189, 0.8700000047683716, 0.8733999729156494, 0.873199999332428, 0.8784000277519226, 0.8727999925613403, 0.8781999945640564, 0.8813999891281128, 0.8799999952316284, 0.883400022983551, 0.8889999985694885, 0.8827999830245972, 0.8802000284194946, 0.8849999904632568, 0.8799999952316284, 0.8870000243186951, 0.8949999809265137, 0.8921999931335449, 0.8917999863624573, 0.8889999985694885, 0.8924000263214111, 0.8898000121116638, 0.8921999931335449, 0.8895999789237976, 0.8952000141143799]}\n"
          ]
        }
      ]
    },
    {
      "cell_type": "code",
      "source": [
        "import pandas as pd \n",
        "import matplotlib.pyplot as plt\n"
      ],
      "metadata": {
        "id": "UA9koOuNT-VB"
      },
      "execution_count": 32,
      "outputs": []
    },
    {
      "cell_type": "code",
      "source": [
        "pd.DataFrame(history.history).plot(figsize=(8, 5))\n",
        "plt.grid(True)\n",
        "plt.gca().set_ylim(0, 1)\n",
        "plt.show()"
      ],
      "metadata": {
        "colab": {
          "base_uri": "https://localhost:8080/",
          "height": 324
        },
        "id": "I4PR3BSkT06Y",
        "outputId": "6cf7b878-aeb9-465e-a8a3-d267e6b6a5d6"
      },
      "execution_count": 35,
      "outputs": [
        {
          "output_type": "display_data",
          "data": {
            "text/plain": [
              "<Figure size 576x360 with 1 Axes>"
            ],
            "image/png": "[encoded data removed]"
          },
          "metadata": {
            "needs_background": "light"
          }
        }
      ]
    }
  ]
}